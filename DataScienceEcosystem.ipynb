{
 "cells": [
  {
   "cell_type": "markdown",
   "id": "5aa39048-3f72-4fc7-bbba-0a738fd50136",
   "metadata": {},
   "source": [
    "<h1>Data Science Tools and Ecosystem<h1>"
   ]
  },
  {
   "cell_type": "markdown",
   "id": "f4544d3b-9a65-45dd-a6e7-57141c402b94",
   "metadata": {},
   "source": [
    "<h2>In this notebook, Data Science Tools and Ecosystem are summarized.<h2>"
   ]
  },
  {
   "cell_type": "markdown",
   "id": "a9cfcc6f-1914-4188-8769-40312e3baa8e",
   "metadata": {},
   "source": [
    "<h3><b>Objectives:</b></h3>\n",
    "</td>\n",
    "<ul>\n",
    "<li>Popular languages used in data science</li>\n",
    "<li>Commonly libraries used by data scientists</li>\n",
    "<li>Examples of evaluating arithmetic</li>\n",
    "</ul>"
   ]
  },
  {
   "cell_type": "markdown",
   "id": "ed8b8792-056e-4cab-8db1-2a9cea9b08a9",
   "metadata": {},
   "source": [
    "Some of the popular languages that Data Scientists use are:"
   ]
  },
  {
   "cell_type": "markdown",
   "id": "931a4c59-e545-4756-93fe-eae6cc69f145",
   "metadata": {},
   "source": [
    "<ol>\n",
    "<li>R</li>\n",
    "<li>Python</li>\n",
    "<li>Julia</li>\n",
    "<li>Scala</li>\n",
    "</ol>"
   ]
  },
  {
   "cell_type": "markdown",
   "id": "0cadc5e7-c05a-4107-944e-58451ebe887d",
   "metadata": {},
   "source": [
    "Some of the commonly used libraries used by Data Scientists include:"
   ]
  },
  {
   "cell_type": "markdown",
   "id": "30baf46d-7c6c-4f8f-be00-15936e2ccff4",
   "metadata": {},
   "source": [
    "<ol>\n",
    "<li>Panda</li>\n",
    "<li>Numpy</li>\n",
    "<li>Scikit-learn</li>\n",
    "<li>Matplotlib</li>\n",
    "<li>Beautiful Soup</li>\n",
    "<ol>"
   ]
  },
  {
   "cell_type": "markdown",
   "id": "6a4170a5-f26a-41fe-9014-6f89ad7b1264",
   "metadata": {},
   "source": [
    "<table style=\"width:20%\">\n",
    "<tr>\n",
    "<th>Data Science Tools</th>\n",
    "</tr>\n",
    "<tr>\n",
    "<td>RStudio</td>\n",
    "</tr>\n",
    "<tr>\n",
    "<td>Apache Hadoop</td>\n",
    "</tr>\n",
    "<tr>\n",
    "<td>TensorFlow</td>\n",
    "</tr>\n",
    "<tr>\n",
    "<td>Jupyter Notebook</td>\n",
    "</tr>\n",
    "</table>"
   ]
  },
  {
   "cell_type": "markdown",
   "id": "49b19c17-f678-4595-87a8-36b49541c660",
   "metadata": {},
   "source": [
    "<h3>Below are a few examples of evaluating arithmetic expressions in Python</h3>"
   ]
  },
  {
   "cell_type": "code",
   "execution_count": 1,
   "id": "c358781d-71a4-411c-aae5-92142223b16d",
   "metadata": {
    "tags": []
   },
   "outputs": [
    {
     "data": {
      "text/plain": [
       "17"
      ]
     },
     "execution_count": 1,
     "metadata": {},
     "output_type": "execute_result"
    }
   ],
   "source": [
    "#This a simple arithmetic expression to mutiply then add integers\n",
    "(3*4)+5"
   ]
  },
  {
   "cell_type": "code",
   "execution_count": 2,
   "id": "d31a71b0-4bb5-4341-a873-6e7fa15f9cf8",
   "metadata": {
    "tags": []
   },
   "outputs": [
    {
     "data": {
      "text/plain": [
       "3.3333333333333335"
      ]
     },
     "execution_count": 2,
     "metadata": {},
     "output_type": "execute_result"
    }
   ],
   "source": [
    "#This will convert 200 minutes to hours by diving by 60\n",
    "200/60"
   ]
  },
  {
   "cell_type": "markdown",
   "id": "dd7ef53c-b02a-45c7-a303-149bb06c4a5b",
   "metadata": {},
   "source": [
    "<h2>Author<h2>\n",
    "<h4>Fernando Cañete</h4>"
   ]
  },
  {
   "cell_type": "code",
   "execution_count": null,
   "id": "926e7256-6af7-439e-ae5b-119c558a0d6a",
   "metadata": {},
   "outputs": [],
   "source": []
  }
 ],
 "metadata": {
  "kernelspec": {
   "display_name": "Python",
   "language": "python",
   "name": "conda-env-python-py"
  },
  "language_info": {
   "codemirror_mode": {
    "name": "ipython",
    "version": 3
   },
   "file_extension": ".py",
   "mimetype": "text/x-python",
   "name": "python",
   "nbconvert_exporter": "python",
   "pygments_lexer": "ipython3",
   "version": "3.7.12"
  }
 },
 "nbformat": 4,
 "nbformat_minor": 5
}
